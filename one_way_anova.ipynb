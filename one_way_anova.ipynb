{
  "nbformat": 4,
  "nbformat_minor": 0,
  "metadata": {
    "colab": {
      "provenance": [],
      "authorship_tag": "ABX9TyPuZPbnWXCRkRAfILd+dxTB",
      "include_colab_link": true
    },
    "kernelspec": {
      "name": "python3",
      "display_name": "Python 3"
    },
    "language_info": {
      "name": "python"
    }
  },
  "cells": [
    {
      "cell_type": "markdown",
      "metadata": {
        "id": "view-in-github",
        "colab_type": "text"
      },
      "source": [
        "<a href=\"https://colab.research.google.com/github/sarahkaarina/basic-stats-training/blob/main/one_way_anova.ipynb\" target=\"_parent\"><img src=\"https://colab.research.google.com/assets/colab-badge.svg\" alt=\"Open In Colab\"/></a>"
      ]
    },
    {
      "cell_type": "markdown",
      "source": [
        "**Multiple group comparison**\n",
        "*Anovas and post-hoc tests*\n",
        "\n",
        "Say you've run an experiment where you have more than two groups of people. For example, let's pretend we are interested in understanding whether there is a difference in the nuber of hours domesticated pets spend sleeping at home.\n",
        "\n",
        "Let's say we know that that the majority of people own dogs, cats, and mice.\n",
        "\n",
        "So we are going to measure the number of hours dogs, cats, and mice spend sleeping on a given day.\n",
        "\n",
        "We collect data from 100 random dogs, 100 radom cats, and 100 mice.\n",
        "\n",
        "Let's get started!"
      ],
      "metadata": {
        "id": "u0ybGy4vxaT2"
      }
    },
    {
      "cell_type": "code",
      "source": [
        "\"\"\"\n",
        "In this line of code we are going to import our python libraries.\n",
        "The first two libraries will help us manage (pandas) and handle (numpy) our data.\n",
        "\"\"\"\n",
        "import pandas as pd\n",
        "import numpy as np\n",
        "\n",
        "\"\"\"\n",
        "These next libraries will help us plot and do our stats!\n",
        "\"\"\"\n",
        "#plot\n",
        "import matplotlib.pyplot as plt\n",
        "\n",
        "#do stats\n",
        "import scipy.stats as stats\n",
        "\n",
        "# generate random numbers\n",
        "import random\n",
        "\n",
        "# let's set a seed as well,\n",
        "# to maintain the same randomization every time we run the code\n",
        "\n",
        "random.seed(990)\n",
        "\n",
        "# I'm going to supress all warnings (for the time being)\n",
        "\n",
        "import warnings\n",
        "warnings.filterwarnings('ignore')"
      ],
      "metadata": {
        "id": "af7FOnYxy1ug"
      },
      "execution_count": 91,
      "outputs": []
    },
    {
      "cell_type": "markdown",
      "source": [
        "**STEP 1**\n",
        "*Get our data*\n",
        "\n",
        "The first thing we want to do is generate some fake data.\n",
        "\n",
        "To do this, we're going to simulate a column of data called 'number_of_sleep_hours' that will represent the number of hours slept (i.e 5 = the pet slept 5 hours)."
      ],
      "metadata": {
        "id": "kjyWnCy9zTEp"
      }
    },
    {
      "cell_type": "code",
      "source": [
        "#https://discovery.cs.illinois.edu/learn/Simulation-and-Distributions/Simple-Simulations-in-Python/\n",
        "\n",
        "# Create an empty dataframe\n",
        "dog_data = []\n",
        "cat_data = []\n",
        "mice_data = []\n",
        "\n",
        "# Loop over the number of animals in each group (n=100)\n",
        "for i in range(100):\n",
        "\n",
        "  # Random.normal will simulate a bunch of NORMALLY DISTRIBUTED integers\n",
        "  # We center around a fake mean (loc) and provide a fake standard deviation (scale)\n",
        "\n",
        "  # We are also going to simulate it so dogs sleep the most, then cats, then mice\n",
        "  dog = np.random.normal(loc = 15, scale = 2, size = 1)\n",
        "  cat = np.random.normal(loc = 13, scale = 2, size = 1)\n",
        "  mice = np.random.normal(loc = 9, scale = 2, size = 1)\n",
        "\n",
        "  # Round our values to ceiling value\n",
        "\n",
        "  dog = int(dog)\n",
        "  cat = int(cat)\n",
        "  mice = int(mice)\n",
        "\n",
        "  data_dict = {\"dog\" : dog, \"cat\" : cat, \"mice\" : mice}\n",
        "\n",
        "  # Store our data in our empty dfs\n",
        "  dog_data.append(data_dict[\"dog\"])\n",
        "  cat_data.append(data_dict[\"cat\"])\n",
        "  mice_data.append(data_dict[\"mice\"])\n",
        "\n",
        "  # Create our pandas dfs\n",
        "  dog_df = pd.DataFrame({'group' : 'dog',\n",
        "                          'number_of_sleep_hours': dog_data})\n",
        "  cat_df = pd.DataFrame({'group' : 'cat',\n",
        "                          'number_of_sleep_hours': cat_data})\n",
        "  mice_df = pd.DataFrame({'group' : 'mice',\n",
        "                          'number_of_sleep_hours': mice_data})\n",
        "\n",
        "# Finally we create a pandas dataframes (with column names etc.) using pandas\n",
        "\n",
        "fake_sleep_data_df = pd.concat([dog_df, cat_df, mice_df])"
      ],
      "metadata": {
        "id": "-ApVeTX5zRsz"
      },
      "execution_count": 92,
      "outputs": []
    },
    {
      "cell_type": "markdown",
      "source": [
        "Let's check our dataframe!"
      ],
      "metadata": {
        "id": "2-Rtk-KD16xi"
      }
    },
    {
      "cell_type": "code",
      "source": [
        "fake_sleep_data_df.head()"
      ],
      "metadata": {
        "colab": {
          "base_uri": "https://localhost:8080/",
          "height": 206
        },
        "id": "NrNpsy1f18jn",
        "outputId": "9d2c50d7-3f04-4366-a161-156d469f1470"
      },
      "execution_count": null,
      "outputs": [
        {
          "output_type": "execute_result",
          "data": {
            "text/plain": [
              "  group  number_of_sleep_hours\n",
              "0   dog                     13\n",
              "1   dog                     15\n",
              "2   dog                     15\n",
              "3   dog                     16\n",
              "4   dog                     15"
            ],
            "text/html": [
              "\n",
              "  <div id=\"df-0de4bb98-7594-4daf-a1de-2c7ec10ce63c\" class=\"colab-df-container\">\n",
              "    <div>\n",
              "<style scoped>\n",
              "    .dataframe tbody tr th:only-of-type {\n",
              "        vertical-align: middle;\n",
              "    }\n",
              "\n",
              "    .dataframe tbody tr th {\n",
              "        vertical-align: top;\n",
              "    }\n",
              "\n",
              "    .dataframe thead th {\n",
              "        text-align: right;\n",
              "    }\n",
              "</style>\n",
              "<table border=\"1\" class=\"dataframe\">\n",
              "  <thead>\n",
              "    <tr style=\"text-align: right;\">\n",
              "      <th></th>\n",
              "      <th>group</th>\n",
              "      <th>number_of_sleep_hours</th>\n",
              "    </tr>\n",
              "  </thead>\n",
              "  <tbody>\n",
              "    <tr>\n",
              "      <th>0</th>\n",
              "      <td>dog</td>\n",
              "      <td>13</td>\n",
              "    </tr>\n",
              "    <tr>\n",
              "      <th>1</th>\n",
              "      <td>dog</td>\n",
              "      <td>15</td>\n",
              "    </tr>\n",
              "    <tr>\n",
              "      <th>2</th>\n",
              "      <td>dog</td>\n",
              "      <td>15</td>\n",
              "    </tr>\n",
              "    <tr>\n",
              "      <th>3</th>\n",
              "      <td>dog</td>\n",
              "      <td>16</td>\n",
              "    </tr>\n",
              "    <tr>\n",
              "      <th>4</th>\n",
              "      <td>dog</td>\n",
              "      <td>15</td>\n",
              "    </tr>\n",
              "  </tbody>\n",
              "</table>\n",
              "</div>\n",
              "    <div class=\"colab-df-buttons\">\n",
              "\n",
              "  <div class=\"colab-df-container\">\n",
              "    <button class=\"colab-df-convert\" onclick=\"convertToInteractive('df-0de4bb98-7594-4daf-a1de-2c7ec10ce63c')\"\n",
              "            title=\"Convert this dataframe to an interactive table.\"\n",
              "            style=\"display:none;\">\n",
              "\n",
              "  <svg xmlns=\"http://www.w3.org/2000/svg\" height=\"24px\" viewBox=\"0 -960 960 960\">\n",
              "    <path d=\"M120-120v-720h720v720H120Zm60-500h600v-160H180v160Zm220 220h160v-160H400v160Zm0 220h160v-160H400v160ZM180-400h160v-160H180v160Zm440 0h160v-160H620v160ZM180-180h160v-160H180v160Zm440 0h160v-160H620v160Z\"/>\n",
              "  </svg>\n",
              "    </button>\n",
              "\n",
              "  <style>\n",
              "    .colab-df-container {\n",
              "      display:flex;\n",
              "      gap: 12px;\n",
              "    }\n",
              "\n",
              "    .colab-df-convert {\n",
              "      background-color: #E8F0FE;\n",
              "      border: none;\n",
              "      border-radius: 50%;\n",
              "      cursor: pointer;\n",
              "      display: none;\n",
              "      fill: #1967D2;\n",
              "      height: 32px;\n",
              "      padding: 0 0 0 0;\n",
              "      width: 32px;\n",
              "    }\n",
              "\n",
              "    .colab-df-convert:hover {\n",
              "      background-color: #E2EBFA;\n",
              "      box-shadow: 0px 1px 2px rgba(60, 64, 67, 0.3), 0px 1px 3px 1px rgba(60, 64, 67, 0.15);\n",
              "      fill: #174EA6;\n",
              "    }\n",
              "\n",
              "    .colab-df-buttons div {\n",
              "      margin-bottom: 4px;\n",
              "    }\n",
              "\n",
              "    [theme=dark] .colab-df-convert {\n",
              "      background-color: #3B4455;\n",
              "      fill: #D2E3FC;\n",
              "    }\n",
              "\n",
              "    [theme=dark] .colab-df-convert:hover {\n",
              "      background-color: #434B5C;\n",
              "      box-shadow: 0px 1px 3px 1px rgba(0, 0, 0, 0.15);\n",
              "      filter: drop-shadow(0px 1px 2px rgba(0, 0, 0, 0.3));\n",
              "      fill: #FFFFFF;\n",
              "    }\n",
              "  </style>\n",
              "\n",
              "    <script>\n",
              "      const buttonEl =\n",
              "        document.querySelector('#df-0de4bb98-7594-4daf-a1de-2c7ec10ce63c button.colab-df-convert');\n",
              "      buttonEl.style.display =\n",
              "        google.colab.kernel.accessAllowed ? 'block' : 'none';\n",
              "\n",
              "      async function convertToInteractive(key) {\n",
              "        const element = document.querySelector('#df-0de4bb98-7594-4daf-a1de-2c7ec10ce63c');\n",
              "        const dataTable =\n",
              "          await google.colab.kernel.invokeFunction('convertToInteractive',\n",
              "                                                    [key], {});\n",
              "        if (!dataTable) return;\n",
              "\n",
              "        const docLinkHtml = 'Like what you see? Visit the ' +\n",
              "          '<a target=\"_blank\" href=https://colab.research.google.com/notebooks/data_table.ipynb>data table notebook</a>'\n",
              "          + ' to learn more about interactive tables.';\n",
              "        element.innerHTML = '';\n",
              "        dataTable['output_type'] = 'display_data';\n",
              "        await google.colab.output.renderOutput(dataTable, element);\n",
              "        const docLink = document.createElement('div');\n",
              "        docLink.innerHTML = docLinkHtml;\n",
              "        element.appendChild(docLink);\n",
              "      }\n",
              "    </script>\n",
              "  </div>\n",
              "\n",
              "\n",
              "<div id=\"df-ed1ab9dd-d9de-4733-9c19-a2d39bcc90c0\">\n",
              "  <button class=\"colab-df-quickchart\" onclick=\"quickchart('df-ed1ab9dd-d9de-4733-9c19-a2d39bcc90c0')\"\n",
              "            title=\"Suggest charts\"\n",
              "            style=\"display:none;\">\n",
              "\n",
              "<svg xmlns=\"http://www.w3.org/2000/svg\" height=\"24px\"viewBox=\"0 0 24 24\"\n",
              "     width=\"24px\">\n",
              "    <g>\n",
              "        <path d=\"M19 3H5c-1.1 0-2 .9-2 2v14c0 1.1.9 2 2 2h14c1.1 0 2-.9 2-2V5c0-1.1-.9-2-2-2zM9 17H7v-7h2v7zm4 0h-2V7h2v10zm4 0h-2v-4h2v4z\"/>\n",
              "    </g>\n",
              "</svg>\n",
              "  </button>\n",
              "\n",
              "<style>\n",
              "  .colab-df-quickchart {\n",
              "      --bg-color: #E8F0FE;\n",
              "      --fill-color: #1967D2;\n",
              "      --hover-bg-color: #E2EBFA;\n",
              "      --hover-fill-color: #174EA6;\n",
              "      --disabled-fill-color: #AAA;\n",
              "      --disabled-bg-color: #DDD;\n",
              "  }\n",
              "\n",
              "  [theme=dark] .colab-df-quickchart {\n",
              "      --bg-color: #3B4455;\n",
              "      --fill-color: #D2E3FC;\n",
              "      --hover-bg-color: #434B5C;\n",
              "      --hover-fill-color: #FFFFFF;\n",
              "      --disabled-bg-color: #3B4455;\n",
              "      --disabled-fill-color: #666;\n",
              "  }\n",
              "\n",
              "  .colab-df-quickchart {\n",
              "    background-color: var(--bg-color);\n",
              "    border: none;\n",
              "    border-radius: 50%;\n",
              "    cursor: pointer;\n",
              "    display: none;\n",
              "    fill: var(--fill-color);\n",
              "    height: 32px;\n",
              "    padding: 0;\n",
              "    width: 32px;\n",
              "  }\n",
              "\n",
              "  .colab-df-quickchart:hover {\n",
              "    background-color: var(--hover-bg-color);\n",
              "    box-shadow: 0 1px 2px rgba(60, 64, 67, 0.3), 0 1px 3px 1px rgba(60, 64, 67, 0.15);\n",
              "    fill: var(--button-hover-fill-color);\n",
              "  }\n",
              "\n",
              "  .colab-df-quickchart-complete:disabled,\n",
              "  .colab-df-quickchart-complete:disabled:hover {\n",
              "    background-color: var(--disabled-bg-color);\n",
              "    fill: var(--disabled-fill-color);\n",
              "    box-shadow: none;\n",
              "  }\n",
              "\n",
              "  .colab-df-spinner {\n",
              "    border: 2px solid var(--fill-color);\n",
              "    border-color: transparent;\n",
              "    border-bottom-color: var(--fill-color);\n",
              "    animation:\n",
              "      spin 1s steps(1) infinite;\n",
              "  }\n",
              "\n",
              "  @keyframes spin {\n",
              "    0% {\n",
              "      border-color: transparent;\n",
              "      border-bottom-color: var(--fill-color);\n",
              "      border-left-color: var(--fill-color);\n",
              "    }\n",
              "    20% {\n",
              "      border-color: transparent;\n",
              "      border-left-color: var(--fill-color);\n",
              "      border-top-color: var(--fill-color);\n",
              "    }\n",
              "    30% {\n",
              "      border-color: transparent;\n",
              "      border-left-color: var(--fill-color);\n",
              "      border-top-color: var(--fill-color);\n",
              "      border-right-color: var(--fill-color);\n",
              "    }\n",
              "    40% {\n",
              "      border-color: transparent;\n",
              "      border-right-color: var(--fill-color);\n",
              "      border-top-color: var(--fill-color);\n",
              "    }\n",
              "    60% {\n",
              "      border-color: transparent;\n",
              "      border-right-color: var(--fill-color);\n",
              "    }\n",
              "    80% {\n",
              "      border-color: transparent;\n",
              "      border-right-color: var(--fill-color);\n",
              "      border-bottom-color: var(--fill-color);\n",
              "    }\n",
              "    90% {\n",
              "      border-color: transparent;\n",
              "      border-bottom-color: var(--fill-color);\n",
              "    }\n",
              "  }\n",
              "</style>\n",
              "\n",
              "  <script>\n",
              "    async function quickchart(key) {\n",
              "      const quickchartButtonEl =\n",
              "        document.querySelector('#' + key + ' button');\n",
              "      quickchartButtonEl.disabled = true;  // To prevent multiple clicks.\n",
              "      quickchartButtonEl.classList.add('colab-df-spinner');\n",
              "      try {\n",
              "        const charts = await google.colab.kernel.invokeFunction(\n",
              "            'suggestCharts', [key], {});\n",
              "      } catch (error) {\n",
              "        console.error('Error during call to suggestCharts:', error);\n",
              "      }\n",
              "      quickchartButtonEl.classList.remove('colab-df-spinner');\n",
              "      quickchartButtonEl.classList.add('colab-df-quickchart-complete');\n",
              "    }\n",
              "    (() => {\n",
              "      let quickchartButtonEl =\n",
              "        document.querySelector('#df-ed1ab9dd-d9de-4733-9c19-a2d39bcc90c0 button');\n",
              "      quickchartButtonEl.style.display =\n",
              "        google.colab.kernel.accessAllowed ? 'block' : 'none';\n",
              "    })();\n",
              "  </script>\n",
              "</div>\n",
              "\n",
              "    </div>\n",
              "  </div>\n"
            ],
            "application/vnd.google.colaboratory.intrinsic+json": {
              "type": "dataframe",
              "variable_name": "fake_sleep_data_df",
              "summary": "{\n  \"name\": \"fake_sleep_data_df\",\n  \"rows\": 300,\n  \"fields\": [\n    {\n      \"column\": \"group\",\n      \"properties\": {\n        \"dtype\": \"category\",\n        \"num_unique_values\": 3,\n        \"samples\": [\n          \"dog\",\n          \"cat\",\n          \"mice\"\n        ],\n        \"semantic_type\": \"\",\n        \"description\": \"\"\n      }\n    },\n    {\n      \"column\": \"number_of_sleep_hours\",\n      \"properties\": {\n        \"dtype\": \"number\",\n        \"std\": 3,\n        \"min\": 3,\n        \"max\": 20,\n        \"num_unique_values\": 17,\n        \"samples\": [\n          13,\n          15,\n          11\n        ],\n        \"semantic_type\": \"\",\n        \"description\": \"\"\n      }\n    }\n  ]\n}"
            }
          },
          "metadata": {},
          "execution_count": 79
        }
      ]
    },
    {
      "cell_type": "markdown",
      "source": [
        "As we can see, we now have a dataframe containing two columns 'group' and 'number_of_sleep_hours', that is 300 rows long (NB! 100 rows of dogs, 100 of cats and 100 of mice)."
      ],
      "metadata": {
        "id": "T8Ce20cV2DYc"
      }
    },
    {
      "cell_type": "markdown",
      "source": [
        "**STEP 2**\n",
        "*Look at the data*\n",
        "\n",
        "Before we run any analysis, let's visualize the differences between our groups.\n",
        "\n",
        "What do we see?"
      ],
      "metadata": {
        "id": "Ugjr3NGt_IXv"
      }
    },
    {
      "cell_type": "code",
      "source": [
        "# Create the empty figure in which to store out plot\n",
        "fig = plt.figure() # <-- edit figure sizes and other specs in here\n",
        "\n",
        "# Create a box plot from our data\n",
        "fake_sleep_data_df.boxplot(column = \"number_of_sleep_hours\", by = \"group\")\n",
        "\n",
        "# Show plot\n",
        "plt.show()"
      ],
      "metadata": {
        "colab": {
          "base_uri": "https://localhost:8080/",
          "height": 496
        },
        "id": "T6zPWaZ0_Hcg",
        "outputId": "dbdcb490-d09b-4101-8fe8-387dc3eb0add"
      },
      "execution_count": null,
      "outputs": [
        {
          "output_type": "display_data",
          "data": {
            "text/plain": [
              "<Figure size 640x480 with 0 Axes>"
            ]
          },
          "metadata": {}
        },
        {
          "output_type": "display_data",
          "data": {
            "text/plain": [
              "<Figure size 640x480 with 1 Axes>"
            ],
            "image/png": "[encoded data removed]"
          },
          "metadata": {}
        }
      ]
    },
    {
      "cell_type": "markdown",
      "source": [
        "As we could have probably predicted (from the fake data we generated), it seems that dogs *on average* sleep longer than cats and mice, cats *on average* sleep longer than mice but not dogs, and mice *on average* sleep less than cats and dogs!\n",
        "\n",
        "**NB: Why am I highlighting the term \"on average\"?**\n",
        "\n",
        "It's important to remember that when running anova's we are, in sum, comparing the average of a variable (in the case number of hours slept) between groups (in this case dogs, cats, and mice). Therefore, when we are describing our results we need to pay close attention that we are talking about *comparing groups*."
      ],
      "metadata": {
        "id": "T1vR1yoFAgHz"
      }
    },
    {
      "cell_type": "markdown",
      "source": [
        "**STEP 3**\n",
        "*Check the data*\n",
        "\n",
        "**So we decided to run a one-way anova, but is it a good move?**\n",
        "\n",
        "Before we run any statistical test, we need to run a few more 'checks' (called testing our assumptions).\n",
        "\n",
        "Difference statistical tests have kinks in their system, so to speak, that means if we don't check our data beforehand we run the risk of running into type 1 or type 2 errors.\n",
        "\n",
        "For example, if our data is not normally distributed we'll need to pick a test that accounts for the distribution of our data. This will be called a *non-parametric* test (the non-parametric version of the anova is called a krukal-wallis test, will look at it later.).\n",
        "\n",
        "So what do we need to test?\n",
        "\n",
        "1.   **Normality**: Is our data normally distributed?\n",
        "2.   **Homogeneity of variance**: Is the variance in our outcome variable (hours of sleep) similar across groups?\n",
        "3. **Idependence**: our individual sample points are not related to each other (each sample is from a single animal, i.e., we haven't collected data from the same animal more than once.).\n",
        "4. **Random sampling**: Our groups are not related to each other and have been randomly sample from the population.\n",
        "\n",
        "NB: These are the requirements we need to meet **in order to run an anova**. Maybe we want to compare data-points from the same animal (i.e. we collected sleep data from the same dog over 5 different days). In this case, an another statistical test that doesnt require indepence might be more appropriate!\n",
        "\n",
        "*Let's now test is our data normally distributed and does it meet the homogeneity of variance requirement*\n",
        "\n",
        "(The other two, indepence and random sampling, we can determine when we are designing our experiment and/or collecting our data)."
      ],
      "metadata": {
        "id": "ITHNt4hnBxzK"
      }
    },
    {
      "cell_type": "markdown",
      "source": [
        "**Testing Normality**\n",
        "If we obtain a non-significant p-value (p > 0.05) from our normality test (also known as a Shapiro-Wilks test), this tells us that the data is normally distributed."
      ],
      "metadata": {
        "id": "G-Ol-56EPQgR"
      }
    },
    {
      "cell_type": "code",
      "source": [
        "# Plot our distribution\n",
        "#fig = plt.figure()\n",
        "plt.hist(dog_df[\"number_of_sleep_hours\"])\n",
        "plt.show()\n",
        "\n",
        "# Test normality in the dog group\n",
        "print(stats.normaltest(dog_df[\"number_of_sleep_hours\"]))\n"
      ],
      "metadata": {
        "colab": {
          "base_uri": "https://localhost:8080/",
          "height": 448
        },
        "id": "PwLGlVc7D5y2",
        "outputId": "bf4b0eb5-8d57-43f5-dcbf-6e94cc113b92"
      },
      "execution_count": null,
      "outputs": [
        {
          "output_type": "display_data",
          "data": {
            "text/plain": [
              "<Figure size 640x480 with 1 Axes>"
            ],
            "image/png": "[encoded data removed]"
          },
          "metadata": {}
        },
        {
          "output_type": "stream",
          "name": "stdout",
          "text": [
            "NormaltestResult(statistic=1.3168631422736772, pvalue=0.5176626150943258)\n"
          ]
        }
      ]
    },
    {
      "cell_type": "code",
      "source": [
        "# Test normality in the cat group\n",
        "#fig = plt.figure()\n",
        "plt.hist(cat_df[\"number_of_sleep_hours\"])\n",
        "plt.show()\n",
        "\n",
        "# Test normality in the dog group\n",
        "print(stats.normaltest(cat_df[\"number_of_sleep_hours\"]))"
      ],
      "metadata": {
        "colab": {
          "base_uri": "https://localhost:8080/",
          "height": 448
        },
        "id": "RryyGXrKJlmi",
        "outputId": "c7c65f47-1563-463f-c571-135eb452b405"
      },
      "execution_count": null,
      "outputs": [
        {
          "output_type": "display_data",
          "data": {
            "text/plain": [
              "<Figure size 640x480 with 1 Axes>"
            ],
            "image/png": "[encoded data removed]"
          },
          "metadata": {}
        },
        {
          "output_type": "stream",
          "name": "stdout",
          "text": [
            "NormaltestResult(statistic=0.8941334717944618, pvalue=0.6395012291623939)\n"
          ]
        }
      ]
    },
    {
      "cell_type": "code",
      "source": [
        "# Test normality in the mouse group\n",
        "#fig = plt.figure()\n",
        "plt.hist(mice_df[\"number_of_sleep_hours\"])\n",
        "plt.show()\n",
        "\n",
        "# Test normality in the dog group\n",
        "print(stats.normaltest(mice_df[\"number_of_sleep_hours\"]))"
      ],
      "metadata": {
        "colab": {
          "base_uri": "https://localhost:8080/",
          "height": 448
        },
        "id": "08g1yRstJn--",
        "outputId": "bbaa10d4-3f49-44c8-96b3-e7007d305c1e"
      },
      "execution_count": null,
      "outputs": [
        {
          "output_type": "display_data",
          "data": {
            "text/plain": [
              "<Figure size 640x480 with 1 Axes>"
            ],
            "image/png": "[encoded data removed]"
          },
          "metadata": {}
        },
        {
          "output_type": "stream",
          "name": "stdout",
          "text": [
            "NormaltestResult(statistic=0.3237320034697687, pvalue=0.8505551698216287)\n"
          ]
        }
      ]
    },
    {
      "cell_type": "markdown",
      "source": [
        "**Testing Homogeneity**\n",
        "If we find no significant difference between the variance in each group (p > 0.05), it means it's unlikley our groups differ in their variance.\n",
        "\n",
        "Therefore we can assume we have homogeneity of variance in our data!"
      ],
      "metadata": {
        "id": "vrdTdwW_PYg1"
      }
    },
    {
      "cell_type": "code",
      "source": [
        "# Testing Homogeneity of Variance\n",
        "\n",
        "stats.levene(dog_df[\"number_of_sleep_hours\"],\n",
        "               cat_df[\"number_of_sleep_hours\"],\n",
        "               mice_df[\"number_of_sleep_hours\"])"
      ],
      "metadata": {
        "colab": {
          "base_uri": "https://localhost:8080/"
        },
        "id": "dPjSyTmwO2YQ",
        "outputId": "cd9b88ff-f999-4cd0-fa14-a29703ad9451"
      },
      "execution_count": null,
      "outputs": [
        {
          "output_type": "execute_result",
          "data": {
            "text/plain": [
              "LeveneResult(statistic=2.2026690352910574, pvalue=0.11230993695541044)"
            ]
          },
          "metadata": {},
          "execution_count": 86
        }
      ]
    },
    {
      "cell_type": "markdown",
      "source": [
        "Did we meet the requirements to run our anova?"
      ],
      "metadata": {
        "id": "_pNF4MIFP5xC"
      }
    },
    {
      "cell_type": "markdown",
      "source": [
        "**STEP 4**\n",
        "*Test the data*\n",
        "\n",
        "Assuming we have met the requirements to run an anova (I don't know, you tell me!), let's get started.\n",
        "\n",
        "Now, there are a couple of ways to do this in python but for the sake of simplicity we're going to use the 'f_oneway' function from scipy's stats package."
      ],
      "metadata": {
        "id": "OvsfmmRi_GDn"
      }
    },
    {
      "cell_type": "code",
      "source": [
        "stats.f_oneway(dog_df[\"number_of_sleep_hours\"],\n",
        "               cat_df[\"number_of_sleep_hours\"],\n",
        "               mice_df[\"number_of_sleep_hours\"])"
      ],
      "metadata": {
        "colab": {
          "base_uri": "https://localhost:8080/"
        },
        "id": "rOX4i0-D7CD6",
        "outputId": "68d50897-1c8c-4d1e-cbe4-35a50ce72dd0"
      },
      "execution_count": null,
      "outputs": [
        {
          "output_type": "execute_result",
          "data": {
            "text/plain": [
              "F_onewayResult(statistic=51.26794583858411, pvalue=7.469585255402805e-20)"
            ]
          },
          "metadata": {},
          "execution_count": 34
        }
      ]
    },
    {
      "cell_type": "markdown",
      "source": [
        "We've run our anova and what do we see?\n",
        "\n",
        "This function provides us with two critical values:\n",
        "\n",
        "\n",
        "1.   **Statistic**: which tells us the effect size of our model(*).\n",
        "2.   **P-value**: the p-value of our model.\n",
        "\n",
        "(*) we'll get into effect sizes later.\n",
        "\n",
        "The p-value, in this case, is 0.000000000000000000075. If we use the standard threshold of 95% and consider any p-values as < 0.05 as significant, I'd say we're doing good (so far).\n",
        "\n",
        "However, these summary statistics only tell us whether *overall* our groups differed significantly in the number of hours they slept (the outcome variable).\n",
        "\n",
        "It may be possible that only two groups are majorly different (i.e. dogs and mice) but another group isn't (i.e. cats and mice). A large difference in one group and no difference in another could still be pushing our model into allowing us to conclude that we have a significant difference in sleep patterns between our groups.\n",
        "\n",
        "*So what do we do now?*\n"
      ],
      "metadata": {
        "id": "xJifFH10S3bd"
      }
    },
    {
      "cell_type": "markdown",
      "source": [
        "**STEP 5**\n",
        "*Post-hoc testing*\n",
        "\n",
        "To answer the above question, we want to test which pairs of groups are significantly to each other (and to what extent).\n",
        "\n",
        "We can do this by running what are called 'post-hoc' tests. One of the more common ones for anovas is called a Tukey test.\n",
        "\n",
        "Let's see it in action!\n"
      ],
      "metadata": {
        "id": "qZt3AuEoUaAs"
      }
    },
    {
      "cell_type": "code",
      "source": [
        "\"\"\"\n",
        "In the stats library, the groups are defined as follows:\n",
        "0 = the first group\n",
        "1 = the second group\n",
        "2 = the third group\n",
        "\n",
        "So in our case we have, 0 = dogs, 1 = cats, 2 = mice\n",
        "\"\"\"\n",
        "\n",
        "res = stats.tukey_hsd(dog_df[\"number_of_sleep_hours\"],\n",
        "               cat_df[\"number_of_sleep_hours\"],\n",
        "               mice_df[\"number_of_sleep_hours\"])\n",
        "\n",
        "print(res)"
      ],
      "metadata": {
        "colab": {
          "base_uri": "https://localhost:8080/"
        },
        "id": "o86vfla-VKop",
        "outputId": "d4e6ce26-505a-4c4a-8011-1040b960fea3"
      },
      "execution_count": null,
      "outputs": [
        {
          "output_type": "stream",
          "name": "stdout",
          "text": [
            "Tukey's HSD Pairwise Group Comparisons (95.0% Confidence Interval)\n",
            "Comparison  Statistic  p-value  Lower CI  Upper CI\n",
            " (0 - 1)      2.420     0.000     1.763     3.077\n",
            " (0 - 2)      6.390     0.000     5.733     7.047\n",
            " (1 - 0)     -2.420     0.000    -3.077    -1.763\n",
            " (1 - 2)      3.970     0.000     3.313     4.627\n",
            " (2 - 0)     -6.390     0.000    -7.047    -5.733\n",
            " (2 - 1)     -3.970     0.000    -4.627    -3.313\n",
            "\n"
          ]
        }
      ]
    },
    {
      "cell_type": "markdown",
      "source": [
        "From the tukey test, can we answer the following?\n",
        "\n",
        "1.   Was there any pair of two groups that was so different it was dragging our overall anova results?\n",
        "2.   Or are all the groups significantly different between each other?\n",
        "\n"
      ],
      "metadata": {
        "id": "jjjODnbOWF_o"
      }
    },
    {
      "cell_type": "markdown",
      "source": [
        "**References**\n",
        "\n",
        "Breakdown of running an anova, in steps: https://www.editage.com/blog/anova-types-uses-assumptions-a-quick-guide-for-biomedical-researchers/\n",
        "\n",
        "Different ways of running it in python:\n",
        "https://www.pythonfordatascience.org/anova-python/\n",
        "\n",
        "Testing normality: https://docs.scipy.org/doc/scipy/reference/generated/scipy.stats.normaltest.html\n",
        "\n",
        "Levene's test, homogeneity of variance: https://docs.scipy.org/doc/scipy/reference/generated/scipy.stats.levene.html\n",
        "\n",
        "Krukal-wallis test: https://docs.scipy.org/doc/scipy/reference/generated/scipy.stats.kruskal.html\n",
        "\n",
        "Tukey test: https://docs.scipy.org/doc/scipy/reference/generated/scipy.stats.tukey_hsd.html"
      ],
      "metadata": {
        "id": "cxEPd84oBlFV"
      }
    }
  ]
}