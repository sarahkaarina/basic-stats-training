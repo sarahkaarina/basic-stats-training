{
  "nbformat": 4,
  "nbformat_minor": 0,
  "metadata": {
    "colab": {
      "provenance": [],
      "authorship_tag": "ABX9TyMTUbT1j5GOH2u92AY06mC4",
      "include_colab_link": true
    },
    "kernelspec": {
      "name": "python3",
      "display_name": "Python 3"
    },
    "language_info": {
      "name": "python"
    }
  },
  "cells": [
    {
      "cell_type": "markdown",
      "metadata": {
        "id": "view-in-github",
        "colab_type": "text"
      },
      "source": [
        "<a href=\"https://colab.research.google.com/github/sarahkaarina/basic-stats-training/blob/main/t_tests.ipynb\" target=\"_parent\"><img src=\"https://colab.research.google.com/assets/colab-badge.svg\" alt=\"Open In Colab\"/></a>"
      ]
    },
    {
      "cell_type": "markdown",
      "source": [
        "**Pairwise Comparisons**\n",
        "\n",
        "*independent sample T-tests*\n",
        "\n",
        "Let's say you're running a study and you want to find out whether *on average* tuna fish or sharks swim more miles. Your very kind and capable research team and you have carefully tagged 50 individual tuna fish and 50 individual sharks and attached GPS monitoring devices to them.\n",
        "\n",
        "This GPS devices tells you for each tuna fish and each shark how many miles they swam in a given day.\n",
        "\n",
        "Now, the question you have is: on day 1, is there a difference in the number of miles a tuna fish swam, compared to a shark?\n",
        "\n",
        "**Let's breakdown the data**\n",
        "\n",
        "We have two groups:\n",
        "\n",
        "  1. Tuna fish (N = 50)\n",
        "  2. Sharks (N = 50)\n",
        "\n",
        "For each of these animals (tuna or shark), you also have a number that represents number of miles.\n",
        "\n",
        "Therefore, we are going to use a t-test to understand whether the average number of miles swam by sharks is different to the average number of miles swam by tuna.\n",
        "\n",
        "Let's see how that's done!"
      ],
      "metadata": {
        "id": "nw7__dcKYGXv"
      }
    },
    {
      "cell_type": "code",
      "source": [
        "\"\"\"\n",
        "In this line of code we are going to import our python libraries.\n",
        "The first two libraries will help us manage (pandas) and handle (numpy) our data.\n",
        "\"\"\"\n",
        "import pandas as pd\n",
        "import numpy as np\n",
        "\n",
        "\"\"\"\n",
        "These next libraries will help us plot and do our stats!\n",
        "\"\"\"\n",
        "#plot\n",
        "import matplotlib.pyplot as plt\n",
        "\n",
        "#do stats\n",
        "import scipy.stats as stats\n",
        "\n",
        "# generate random numbers\n",
        "import random\n",
        "\n",
        "# let's set a seed as well,\n",
        "# to maintain the same randomization every time we run the code\n",
        "\n",
        "random.seed(991)\n",
        "\n",
        "# I'm going to supress all warnings (for the time being)\n",
        "\n",
        "import warnings\n",
        "warnings.filterwarnings('ignore')"
      ],
      "metadata": {
        "id": "O-gceW6GYwQT"
      },
      "execution_count": 14,
      "outputs": []
    },
    {
      "cell_type": "markdown",
      "source": [
        "**Step 1**\n",
        "\n",
        "Generate the data"
      ],
      "metadata": {
        "id": "xIi6vGh8Y674"
      }
    },
    {
      "cell_type": "code",
      "source": [
        "#https://discovery.cs.illinois.edu/learn/Simulation-and-Distributions/Simple-Simulations-in-Python/\n",
        "\n",
        "# Create an empty dataframe\n",
        "tuna_data = []\n",
        "shark_data = []\n",
        "\n",
        "# Loop over the number of animals in each group (n=100)\n",
        "for i in range(100):\n",
        "\n",
        "  # Random.normal will simulate a bunch of NORMALLY DISTRIBUTED integers\n",
        "  # We center around a fake mean (loc) and provide a fake standard deviation (scale)\n",
        "\n",
        "  # We are also going to simulate it so sharks swam the most and tuna the least\n",
        "  tuna = np.random.normal(loc = 50, scale = 2, size = 1)\n",
        "  shark = np.random.normal(loc = 55, scale = 2, size = 1)\n",
        "\n",
        "  # Round our values to ceiling value\n",
        "\n",
        "  tuna = int(tuna)\n",
        "  shark = int(shark)\n",
        "\n",
        "  data_dict = {\"tuna\" : tuna, \"shark\" : shark}\n",
        "\n",
        "  # Store our data in our empty dfs\n",
        "  tuna_data.append(data_dict[\"tuna\"])\n",
        "  shark_data.append(data_dict[\"shark\"])\n",
        "\n",
        "  # Create our pandas dfs\n",
        "  tuna_df = pd.DataFrame({'group' : 'tuna',\n",
        "                          'number_of_miles_swam': tuna_data})\n",
        "  shark_df = pd.DataFrame({'group' : 'shark',\n",
        "                          'number_of_miles_swam': shark_data})\n",
        "\n",
        "# Finally we create a pandas dataframes (with column names etc.) using pandas\n",
        "\n",
        "fake_mileage_data_df = pd.concat([tuna_df, shark_df])"
      ],
      "metadata": {
        "id": "IpgSWpGMzKW9"
      },
      "execution_count": 15,
      "outputs": []
    },
    {
      "cell_type": "markdown",
      "source": [
        "Let's check the data!"
      ],
      "metadata": {
        "id": "xuxvf3CZ0CBY"
      }
    },
    {
      "cell_type": "code",
      "source": [
        "fake_mileage_data_df.head()"
      ],
      "metadata": {
        "id": "8zelrWx60Bmb",
        "outputId": "72acba23-532c-4e59-a912-b0a35b2ed8ad",
        "colab": {
          "base_uri": "https://localhost:8080/",
          "height": 206
        }
      },
      "execution_count": 4,
      "outputs": [
        {
          "output_type": "execute_result",
          "data": {
            "text/plain": [
              "  group  number_of_miles_swam\n",
              "0  tuna                    46\n",
              "1  tuna                    45\n",
              "2  tuna                    46\n",
              "3  tuna                    48\n",
              "4  tuna                    48"
            ],
            "text/html": [
              "\n",
              "  <div id=\"df-01ef2661-1342-49d2-910e-a30004efc114\" class=\"colab-df-container\">\n",
              "    <div>\n",
              "<style scoped>\n",
              "    .dataframe tbody tr th:only-of-type {\n",
              "        vertical-align: middle;\n",
              "    }\n",
              "\n",
              "    .dataframe tbody tr th {\n",
              "        vertical-align: top;\n",
              "    }\n",
              "\n",
              "    .dataframe thead th {\n",
              "        text-align: right;\n",
              "    }\n",
              "</style>\n",
              "<table border=\"1\" class=\"dataframe\">\n",
              "  <thead>\n",
              "    <tr style=\"text-align: right;\">\n",
              "      <th></th>\n",
              "      <th>group</th>\n",
              "      <th>number_of_miles_swam</th>\n",
              "    </tr>\n",
              "  </thead>\n",
              "  <tbody>\n",
              "    <tr>\n",
              "      <th>0</th>\n",
              "      <td>tuna</td>\n",
              "      <td>46</td>\n",
              "    </tr>\n",
              "    <tr>\n",
              "      <th>1</th>\n",
              "      <td>tuna</td>\n",
              "      <td>45</td>\n",
              "    </tr>\n",
              "    <tr>\n",
              "      <th>2</th>\n",
              "      <td>tuna</td>\n",
              "      <td>46</td>\n",
              "    </tr>\n",
              "    <tr>\n",
              "      <th>3</th>\n",
              "      <td>tuna</td>\n",
              "      <td>48</td>\n",
              "    </tr>\n",
              "    <tr>\n",
              "      <th>4</th>\n",
              "      <td>tuna</td>\n",
              "      <td>48</td>\n",
              "    </tr>\n",
              "  </tbody>\n",
              "</table>\n",
              "</div>\n",
              "    <div class=\"colab-df-buttons\">\n",
              "\n",
              "  <div class=\"colab-df-container\">\n",
              "    <button class=\"colab-df-convert\" onclick=\"convertToInteractive('df-01ef2661-1342-49d2-910e-a30004efc114')\"\n",
              "            title=\"Convert this dataframe to an interactive table.\"\n",
              "            style=\"display:none;\">\n",
              "\n",
              "  <svg xmlns=\"http://www.w3.org/2000/svg\" height=\"24px\" viewBox=\"0 -960 960 960\">\n",
              "    <path d=\"M120-120v-720h720v720H120Zm60-500h600v-160H180v160Zm220 220h160v-160H400v160Zm0 220h160v-160H400v160ZM180-400h160v-160H180v160Zm440 0h160v-160H620v160ZM180-180h160v-160H180v160Zm440 0h160v-160H620v160Z\"/>\n",
              "  </svg>\n",
              "    </button>\n",
              "\n",
              "  <style>\n",
              "    .colab-df-container {\n",
              "      display:flex;\n",
              "      gap: 12px;\n",
              "    }\n",
              "\n",
              "    .colab-df-convert {\n",
              "      background-color: #E8F0FE;\n",
              "      border: none;\n",
              "      border-radius: 50%;\n",
              "      cursor: pointer;\n",
              "      display: none;\n",
              "      fill: #1967D2;\n",
              "      height: 32px;\n",
              "      padding: 0 0 0 0;\n",
              "      width: 32px;\n",
              "    }\n",
              "\n",
              "    .colab-df-convert:hover {\n",
              "      background-color: #E2EBFA;\n",
              "      box-shadow: 0px 1px 2px rgba(60, 64, 67, 0.3), 0px 1px 3px 1px rgba(60, 64, 67, 0.15);\n",
              "      fill: #174EA6;\n",
              "    }\n",
              "\n",
              "    .colab-df-buttons div {\n",
              "      margin-bottom: 4px;\n",
              "    }\n",
              "\n",
              "    [theme=dark] .colab-df-convert {\n",
              "      background-color: #3B4455;\n",
              "      fill: #D2E3FC;\n",
              "    }\n",
              "\n",
              "    [theme=dark] .colab-df-convert:hover {\n",
              "      background-color: #434B5C;\n",
              "      box-shadow: 0px 1px 3px 1px rgba(0, 0, 0, 0.15);\n",
              "      filter: drop-shadow(0px 1px 2px rgba(0, 0, 0, 0.3));\n",
              "      fill: #FFFFFF;\n",
              "    }\n",
              "  </style>\n",
              "\n",
              "    <script>\n",
              "      const buttonEl =\n",
              "        document.querySelector('#df-01ef2661-1342-49d2-910e-a30004efc114 button.colab-df-convert');\n",
              "      buttonEl.style.display =\n",
              "        google.colab.kernel.accessAllowed ? 'block' : 'none';\n",
              "\n",
              "      async function convertToInteractive(key) {\n",
              "        const element = document.querySelector('#df-01ef2661-1342-49d2-910e-a30004efc114');\n",
              "        const dataTable =\n",
              "          await google.colab.kernel.invokeFunction('convertToInteractive',\n",
              "                                                    [key], {});\n",
              "        if (!dataTable) return;\n",
              "\n",
              "        const docLinkHtml = 'Like what you see? Visit the ' +\n",
              "          '<a target=\"_blank\" href=https://colab.research.google.com/notebooks/data_table.ipynb>data table notebook</a>'\n",
              "          + ' to learn more about interactive tables.';\n",
              "        element.innerHTML = '';\n",
              "        dataTable['output_type'] = 'display_data';\n",
              "        await google.colab.output.renderOutput(dataTable, element);\n",
              "        const docLink = document.createElement('div');\n",
              "        docLink.innerHTML = docLinkHtml;\n",
              "        element.appendChild(docLink);\n",
              "      }\n",
              "    </script>\n",
              "  </div>\n",
              "\n",
              "\n",
              "<div id=\"df-10ab0f9d-2538-4c8b-a612-df62ace3ee9b\">\n",
              "  <button class=\"colab-df-quickchart\" onclick=\"quickchart('df-10ab0f9d-2538-4c8b-a612-df62ace3ee9b')\"\n",
              "            title=\"Suggest charts\"\n",
              "            style=\"display:none;\">\n",
              "\n",
              "<svg xmlns=\"http://www.w3.org/2000/svg\" height=\"24px\"viewBox=\"0 0 24 24\"\n",
              "     width=\"24px\">\n",
              "    <g>\n",
              "        <path d=\"M19 3H5c-1.1 0-2 .9-2 2v14c0 1.1.9 2 2 2h14c1.1 0 2-.9 2-2V5c0-1.1-.9-2-2-2zM9 17H7v-7h2v7zm4 0h-2V7h2v10zm4 0h-2v-4h2v4z\"/>\n",
              "    </g>\n",
              "</svg>\n",
              "  </button>\n",
              "\n",
              "<style>\n",
              "  .colab-df-quickchart {\n",
              "      --bg-color: #E8F0FE;\n",
              "      --fill-color: #1967D2;\n",
              "      --hover-bg-color: #E2EBFA;\n",
              "      --hover-fill-color: #174EA6;\n",
              "      --disabled-fill-color: #AAA;\n",
              "      --disabled-bg-color: #DDD;\n",
              "  }\n",
              "\n",
              "  [theme=dark] .colab-df-quickchart {\n",
              "      --bg-color: #3B4455;\n",
              "      --fill-color: #D2E3FC;\n",
              "      --hover-bg-color: #434B5C;\n",
              "      --hover-fill-color: #FFFFFF;\n",
              "      --disabled-bg-color: #3B4455;\n",
              "      --disabled-fill-color: #666;\n",
              "  }\n",
              "\n",
              "  .colab-df-quickchart {\n",
              "    background-color: var(--bg-color);\n",
              "    border: none;\n",
              "    border-radius: 50%;\n",
              "    cursor: pointer;\n",
              "    display: none;\n",
              "    fill: var(--fill-color);\n",
              "    height: 32px;\n",
              "    padding: 0;\n",
              "    width: 32px;\n",
              "  }\n",
              "\n",
              "  .colab-df-quickchart:hover {\n",
              "    background-color: var(--hover-bg-color);\n",
              "    box-shadow: 0 1px 2px rgba(60, 64, 67, 0.3), 0 1px 3px 1px rgba(60, 64, 67, 0.15);\n",
              "    fill: var(--button-hover-fill-color);\n",
              "  }\n",
              "\n",
              "  .colab-df-quickchart-complete:disabled,\n",
              "  .colab-df-quickchart-complete:disabled:hover {\n",
              "    background-color: var(--disabled-bg-color);\n",
              "    fill: var(--disabled-fill-color);\n",
              "    box-shadow: none;\n",
              "  }\n",
              "\n",
              "  .colab-df-spinner {\n",
              "    border: 2px solid var(--fill-color);\n",
              "    border-color: transparent;\n",
              "    border-bottom-color: var(--fill-color);\n",
              "    animation:\n",
              "      spin 1s steps(1) infinite;\n",
              "  }\n",
              "\n",
              "  @keyframes spin {\n",
              "    0% {\n",
              "      border-color: transparent;\n",
              "      border-bottom-color: var(--fill-color);\n",
              "      border-left-color: var(--fill-color);\n",
              "    }\n",
              "    20% {\n",
              "      border-color: transparent;\n",
              "      border-left-color: var(--fill-color);\n",
              "      border-top-color: var(--fill-color);\n",
              "    }\n",
              "    30% {\n",
              "      border-color: transparent;\n",
              "      border-left-color: var(--fill-color);\n",
              "      border-top-color: var(--fill-color);\n",
              "      border-right-color: var(--fill-color);\n",
              "    }\n",
              "    40% {\n",
              "      border-color: transparent;\n",
              "      border-right-color: var(--fill-color);\n",
              "      border-top-color: var(--fill-color);\n",
              "    }\n",
              "    60% {\n",
              "      border-color: transparent;\n",
              "      border-right-color: var(--fill-color);\n",
              "    }\n",
              "    80% {\n",
              "      border-color: transparent;\n",
              "      border-right-color: var(--fill-color);\n",
              "      border-bottom-color: var(--fill-color);\n",
              "    }\n",
              "    90% {\n",
              "      border-color: transparent;\n",
              "      border-bottom-color: var(--fill-color);\n",
              "    }\n",
              "  }\n",
              "</style>\n",
              "\n",
              "  <script>\n",
              "    async function quickchart(key) {\n",
              "      const quickchartButtonEl =\n",
              "        document.querySelector('#' + key + ' button');\n",
              "      quickchartButtonEl.disabled = true;  // To prevent multiple clicks.\n",
              "      quickchartButtonEl.classList.add('colab-df-spinner');\n",
              "      try {\n",
              "        const charts = await google.colab.kernel.invokeFunction(\n",
              "            'suggestCharts', [key], {});\n",
              "      } catch (error) {\n",
              "        console.error('Error during call to suggestCharts:', error);\n",
              "      }\n",
              "      quickchartButtonEl.classList.remove('colab-df-spinner');\n",
              "      quickchartButtonEl.classList.add('colab-df-quickchart-complete');\n",
              "    }\n",
              "    (() => {\n",
              "      let quickchartButtonEl =\n",
              "        document.querySelector('#df-10ab0f9d-2538-4c8b-a612-df62ace3ee9b button');\n",
              "      quickchartButtonEl.style.display =\n",
              "        google.colab.kernel.accessAllowed ? 'block' : 'none';\n",
              "    })();\n",
              "  </script>\n",
              "</div>\n",
              "\n",
              "    </div>\n",
              "  </div>\n"
            ],
            "application/vnd.google.colaboratory.intrinsic+json": {
              "type": "dataframe",
              "variable_name": "fake_mileage_data_df",
              "summary": "{\n  \"name\": \"fake_mileage_data_df\",\n  \"rows\": 200,\n  \"fields\": [\n    {\n      \"column\": \"group\",\n      \"properties\": {\n        \"dtype\": \"category\",\n        \"num_unique_values\": 2,\n        \"samples\": [\n          \"shark\",\n          \"tuna\"\n        ],\n        \"semantic_type\": \"\",\n        \"description\": \"\"\n      }\n    },\n    {\n      \"column\": \"number_of_miles_swam\",\n      \"properties\": {\n        \"dtype\": \"number\",\n        \"std\": 42,\n        \"min\": 40,\n        \"max\": 135,\n        \"num_unique_values\": 23,\n        \"samples\": [\n          127,\n          40\n        ],\n        \"semantic_type\": \"\",\n        \"description\": \"\"\n      }\n    }\n  ]\n}"
            }
          },
          "metadata": {},
          "execution_count": 4
        }
      ]
    },
    {
      "cell_type": "markdown",
      "source": [
        "**Step 2**\n",
        "\n",
        "Visualize the data"
      ],
      "metadata": {
        "id": "cGZ4bQFYY9kz"
      }
    },
    {
      "cell_type": "code",
      "source": [
        "# Create the empty figure in which to store out plot\n",
        "fig = plt.figure() # <-- edit figure sizes and other specs in here\n",
        "\n",
        "# Create a box plot from our data\n",
        "fake_mileage_data_df.boxplot(column = \"number_of_miles_swam\", by = \"group\")\n",
        "\n",
        "# Show plot\n",
        "plt.show()"
      ],
      "metadata": {
        "id": "Uzm3UGPdz8re",
        "outputId": "03d254c8-a8ef-4567-b186-27a64c954608",
        "colab": {
          "base_uri": "https://localhost:8080/",
          "height": 496
        }
      },
      "execution_count": 16,
      "outputs": [
        {
          "output_type": "display_data",
          "data": {
            "text/plain": [
              "<Figure size 640x480 with 0 Axes>"
            ]
          },
          "metadata": {}
        },
        {
          "output_type": "display_data",
          "data": {
            "text/plain": [
              "<Figure size 640x480 with 1 Axes>"
            ],
            "image/png": "[encoded data removed]"
          },
          "metadata": {}
        }
      ]
    },
    {
      "cell_type": "markdown",
      "source": [
        "**Step 3**\n",
        "\n",
        "Check our assumptions"
      ],
      "metadata": {
        "id": "JcZi5hOOZB22"
      }
    },
    {
      "cell_type": "code",
      "source": [
        "# Plot our distribution\n",
        "#fig = plt.figure()\n",
        "plt.hist(tuna_df[\"number_of_miles_swam\"])\n",
        "plt.show()\n",
        "\n",
        "# Test normality in the dog group\n",
        "print(stats.normaltest(tuna_df[\"number_of_miles_swam\"]))\n"
      ],
      "metadata": {
        "id": "XEZDuHC00p77",
        "outputId": "1ca888d3-c8de-4f0f-e660-3b62665a7c8b",
        "colab": {
          "base_uri": "https://localhost:8080/",
          "height": 448
        }
      },
      "execution_count": 17,
      "outputs": [
        {
          "output_type": "display_data",
          "data": {
            "text/plain": [
              "<Figure size 640x480 with 1 Axes>"
            ],
            "image/png": "[encoded data removed]"
          },
          "metadata": {}
        },
        {
          "output_type": "stream",
          "name": "stdout",
          "text": [
            "NormaltestResult(statistic=0.0913809949116686, pvalue=0.9553375958551233)\n"
          ]
        }
      ]
    },
    {
      "cell_type": "code",
      "source": [
        "# Plot our distribution\n",
        "#fig = plt.figure()\n",
        "plt.hist(shark_df[\"number_of_miles_swam\"])\n",
        "plt.show()\n",
        "\n",
        "# Test normality in the dog group\n",
        "print(stats.normaltest(shark_df[\"number_of_miles_swam\"]))"
      ],
      "metadata": {
        "id": "HT_Fz9wv007B",
        "outputId": "02a05cb2-7d57-449d-b0bb-d292d5a82254",
        "colab": {
          "base_uri": "https://localhost:8080/",
          "height": 448
        }
      },
      "execution_count": 18,
      "outputs": [
        {
          "output_type": "display_data",
          "data": {
            "text/plain": [
              "<Figure size 640x480 with 1 Axes>"
            ],
            "image/png": "[encoded data removed]"
          },
          "metadata": {}
        },
        {
          "output_type": "stream",
          "name": "stdout",
          "text": [
            "NormaltestResult(statistic=2.1535999272120496, pvalue=0.34068398431106756)\n"
          ]
        }
      ]
    },
    {
      "cell_type": "code",
      "source": [
        "# Testing Homogeneity of Variance\n",
        "\n",
        "stats.levene(tuna_df[\"number_of_miles_swam\"],\n",
        "               shark_df[\"number_of_miles_swam\"])"
      ],
      "metadata": {
        "id": "2LgCIshB1u6D",
        "outputId": "efe2c4cd-940a-4664-9598-eca428ff594f",
        "colab": {
          "base_uri": "https://localhost:8080/"
        }
      },
      "execution_count": 21,
      "outputs": [
        {
          "output_type": "execute_result",
          "data": {
            "text/plain": [
              "LeveneResult(statistic=0.39777519508550624, pvalue=0.5289677711921958)"
            ]
          },
          "metadata": {},
          "execution_count": 21
        }
      ]
    },
    {
      "cell_type": "markdown",
      "source": [
        "**Step 4**\n",
        "\n",
        "Run our model"
      ],
      "metadata": {
        "id": "fL2ZpK-tZHIE"
      }
    },
    {
      "cell_type": "code",
      "source": [
        "# Run our t-test\n",
        "\n",
        "stats.ttest_ind(a=tuna_data, b=shark_data, equal_var=True)"
      ],
      "metadata": {
        "id": "eF770fIF1GLc",
        "outputId": "3205ad8c-537d-4169-a583-54755ce108a2",
        "colab": {
          "base_uri": "https://localhost:8080/"
        }
      },
      "execution_count": 20,
      "outputs": [
        {
          "output_type": "execute_result",
          "data": {
            "text/plain": [
              "TtestResult(statistic=-17.780117837346438, pvalue=6.772171216893072e-43, df=198.0)"
            ]
          },
          "metadata": {},
          "execution_count": 20
        }
      ]
    }
  ]
}
