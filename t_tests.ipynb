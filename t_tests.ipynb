{
  "nbformat": 4,
  "nbformat_minor": 0,
  "metadata": {
    "colab": {
      "provenance": [],
      "authorship_tag": "ABX9TyNdTCfgiEZZxReoynFjNti5",
      "include_colab_link": true
    },
    "kernelspec": {
      "name": "python3",
      "display_name": "Python 3"
    },
    "language_info": {
      "name": "python"
    }
  },
  "cells": [
    {
      "cell_type": "markdown",
      "metadata": {
        "id": "view-in-github",
        "colab_type": "text"
      },
      "source": [
        "<a href=\"https://colab.research.google.com/github/sarahkaarina/basic-stats-training/blob/main/t_tests.ipynb\" target=\"_parent\"><img src=\"https://colab.research.google.com/assets/colab-badge.svg\" alt=\"Open In Colab\"/></a>"
      ]
    },
    {
      "cell_type": "markdown",
      "source": [
        "**Pairwise Comparisons**\n",
        "\n",
        "*independent sample T-tests*\n",
        "\n",
        "\n"
      ],
      "metadata": {
        "id": "nw7__dcKYGXv"
      }
    },
    {
      "cell_type": "code",
      "source": [
        "\"\"\"\n",
        "Import our libraries\n",
        "\n",
        "\"\"\"\n",
        "\n",
        "import pandas as pd\n",
        "import numpy as np\n",
        "\n",
        "import scipy.stats as stats\n",
        "\n",
        "import matplotlib.pyplot as plt"
      ],
      "metadata": {
        "id": "O-gceW6GYwQT"
      },
      "execution_count": null,
      "outputs": []
    },
    {
      "cell_type": "markdown",
      "source": [
        "**Step 1**\n",
        "\n",
        "Generate the data"
      ],
      "metadata": {
        "id": "xIi6vGh8Y674"
      }
    },
    {
      "cell_type": "markdown",
      "source": [
        "**Step 2**\n",
        "\n",
        "Visualize the data"
      ],
      "metadata": {
        "id": "cGZ4bQFYY9kz"
      }
    },
    {
      "cell_type": "markdown",
      "source": [
        "**Step 3**\n",
        "\n",
        "Check our assumptions"
      ],
      "metadata": {
        "id": "JcZi5hOOZB22"
      }
    },
    {
      "cell_type": "markdown",
      "source": [
        "**Step 4**\n",
        "\n",
        "Run our model"
      ],
      "metadata": {
        "id": "fL2ZpK-tZHIE"
      }
    }
  ]
}