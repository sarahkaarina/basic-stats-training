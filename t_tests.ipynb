{
  "nbformat": 4,
  "nbformat_minor": 0,
  "metadata": {
    "colab": {
      "provenance": [],
      "authorship_tag": "ABX9TyMKe2hA/qxkBPqFTZ79A2cd",
      "include_colab_link": true
    },
    "kernelspec": {
      "name": "python3",
      "display_name": "Python 3"
    },
    "language_info": {
      "name": "python"
    }
  },
  "cells": [
    {
      "cell_type": "markdown",
      "metadata": {
        "id": "view-in-github",
        "colab_type": "text"
      },
      "source": [
        "<a href=\"https://colab.research.google.com/github/sarahkaarina/basic-stats-training/blob/main/t_tests.ipynb\" target=\"_parent\"><img src=\"https://colab.research.google.com/assets/colab-badge.svg\" alt=\"Open In Colab\"/></a>"
      ]
    },
    {
      "cell_type": "markdown",
      "source": [
        "**Pairwise Comparisons**\n",
        "\n",
        "*independent sample T-tests*\n",
        "\n",
        "Let's say you're running a study and you want to find out whether *on average* tuna fish or sharks swim more miles. Your very kind and capable research team and you have carefully tagged 50 individual tuna fish and 50 individual sharks and attached GPS monitoring devices to them.\n",
        "\n",
        "This GPS devices tells you for each tuna fish and each shark how many miles they swam in a given day.\n",
        "\n",
        "Now, the question you have is: on day 1, is there a difference in the number of miles a tuna fish swam, compared to a shark?\n",
        "\n",
        "**Let's breakdown the data**\n",
        "\n",
        "We have two groups:\n",
        "\n",
        "  1. Tuna fish (N = 50)\n",
        "  2. Sharks (N = 50)\n",
        "\n",
        "For each of these animals (tuna or shark), you also have a number that represents number of miles.\n",
        "\n",
        "Therefore, we are going to use a t-test to understand whether the average number of miles swam by sharks is different to the average number of miles swam by tuna.\n",
        "\n",
        "Let's see how that's done!"
      ],
      "metadata": {
        "id": "nw7__dcKYGXv"
      }
    },
    {
      "cell_type": "code",
      "source": [
        "\"\"\"\n",
        "Import our libraries\n",
        "\n",
        "\"\"\"\n",
        "\n",
        "import pandas as pd\n",
        "import numpy as np\n",
        "\n",
        "import scipy.stats as stats\n",
        "\n",
        "import matplotlib.pyplot as plt"
      ],
      "metadata": {
        "id": "O-gceW6GYwQT"
      },
      "execution_count": null,
      "outputs": []
    },
    {
      "cell_type": "markdown",
      "source": [
        "**Step 1**\n",
        "\n",
        "Generate the data"
      ],
      "metadata": {
        "id": "xIi6vGh8Y674"
      }
    },
    {
      "cell_type": "markdown",
      "source": [
        "**Step 2**\n",
        "\n",
        "Visualize the data"
      ],
      "metadata": {
        "id": "cGZ4bQFYY9kz"
      }
    },
    {
      "cell_type": "markdown",
      "source": [
        "**Step 3**\n",
        "\n",
        "Check our assumptions"
      ],
      "metadata": {
        "id": "JcZi5hOOZB22"
      }
    },
    {
      "cell_type": "markdown",
      "source": [
        "**Step 4**\n",
        "\n",
        "Run our model"
      ],
      "metadata": {
        "id": "fL2ZpK-tZHIE"
      }
    }
  ]
}